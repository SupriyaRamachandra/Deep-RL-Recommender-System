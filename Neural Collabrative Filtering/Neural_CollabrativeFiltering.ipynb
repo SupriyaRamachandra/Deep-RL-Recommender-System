{
 "cells": [
  {
   "cell_type": "markdown",
   "metadata": {},
   "source": [
    "# Neural Collabrative Filtering to be compared with DRR"
   ]
  },
  {
   "cell_type": "code",
   "execution_count": 1,
   "metadata": {},
   "outputs": [],
   "source": [
    "import os\n",
    "import time\n",
    "import argparse\n",
    "import numpy as np\n",
    "\n",
    "import torch\n",
    "import torch.nn as nn\n",
    "import torch.optim as optim\n",
    "import torch.utils.data as data\n",
    "import torch.backends.cudnn as cudnn\n",
    "from tensorboardX import SummaryWriter\n",
    "\n",
    "import model\n",
    "import config\n",
    "import evaluate\n",
    "import data_utils"
   ]
  },
  {
   "cell_type": "code",
   "execution_count": 2,
   "metadata": {},
   "outputs": [],
   "source": [
    "lr=0.01\n",
    "dropout=0.0\n",
    "batch_size=256\n",
    "epochs=1\n",
    "top_k=10\n",
    "factor_num=32\n",
    "num_layers=3\n",
    "num_ng=4\n",
    "test_num_ng=99\n",
    "out=True"
   ]
  },
  {
   "cell_type": "code",
   "execution_count": 3,
   "metadata": {},
   "outputs": [],
   "source": [
    "train_data, test_data, user_num ,item_num, train_mat = data_utils.load_all()\n",
    "\n",
    "# construct the train and test datasets\n",
    "train_dataset = data_utils.NCFData(train_data, item_num, train_mat, num_ng, True)\n",
    "test_dataset = data_utils.NCFData(test_data, item_num, train_mat, 0, False)\n",
    "train_loader = data.DataLoader(train_dataset,batch_size=batch_size, shuffle=True, num_workers=4)\n",
    "test_loader = data.DataLoader(test_dataset,batch_size=test_num_ng+1, shuffle=False, num_workers=0)"
   ]
  },
  {
   "cell_type": "code",
   "execution_count": 4,
   "metadata": {},
   "outputs": [],
   "source": [
    "if config.model == 'NeuMF-pre':\n",
    "    assert os.path.exists(config.GMF_model_path), 'lack of GMF model'\n",
    "    assert os.path.exists(config.MLP_model_path), 'lack of MLP model'\n",
    "    #GMF_model = torch.load(config.GMF_model_path)\n",
    "    MLP_model = torch.load(config.MLP_model_path)\n",
    "else:\n",
    "    GMF_model = None\n",
    "    MLP_model = None\n",
    "\n",
    "model = model.NCF(user_num, item_num, factor_num, num_layers, dropout, config.model, GMF_model, MLP_model)"
   ]
  },
  {
   "cell_type": "code",
   "execution_count": 5,
   "metadata": {},
   "outputs": [],
   "source": [
    "loss_function = nn.BCEWithLogitsLoss()\n",
    "\n",
    "if config.model == 'NeuMF-pre':\n",
    "\toptimizer = optim.SGD(model.parameters(), lr=lr)\n",
    "else:\n",
    "\toptimizer = optim.Adam(model.parameters(), lr=lr)"
   ]
  },
  {
   "cell_type": "code",
   "execution_count": 6,
   "metadata": {},
   "outputs": [
    {
     "name": "stdout",
     "output_type": "stream",
     "text": [
      "The time elapse of epoch 000 is: 00: 18: 46\n",
      "HR: 0.593\tNDCG: 0.334\n",
      "End. Best epoch 000: HR = 0.593, NDCG = 0.334\n"
     ]
    }
   ],
   "source": [
    "count, best_hr = 0, 0\n",
    "for epoch in range(epochs):\n",
    "    model.train() # Enable dropout (if have).\n",
    "    start_time = time.time()\n",
    "    train_loader.dataset.ng_sample()\n",
    "\n",
    "    for user, item, label in train_loader:\n",
    "        label = label.float()\n",
    "        model.zero_grad()\n",
    "        prediction = model(user, item)\n",
    "        loss = loss_function(prediction, label)\n",
    "        loss.backward()\n",
    "        optimizer.step()\n",
    "        # writer.add_scalar('data/loss', loss.item(), count)\n",
    "        count += 1\n",
    "    model.eval()\n",
    "    HR, NDCG = evaluate.metrics(model, test_loader, top_k)\n",
    "\n",
    "    elapsed_time = time.time() - start_time\n",
    "    print(\"The time elapse of epoch {:03d}\".format(epoch) + \" is: \" + time.strftime(\"%H: %M: %S\", time.gmtime(elapsed_time)))\n",
    "    print(\"HR: {:.3f}\\tNDCG: {:.3f}\".format(np.mean(HR), np.mean(NDCG)))\n",
    "    if HR > best_hr:\n",
    "        best_hr, best_ndcg, best_epoch = HR, NDCG, epoch\n",
    "        if out:\n",
    "            if not os.path.exists(config.model_path):\n",
    "                os.mkdir(config.model_path)\n",
    "            torch.save(model, \n",
    "                '{}{}.pth'.format(config.model_path, config.model))\n",
    "print(\"End. Best epoch {:03d}: HR = {:.3f}, NDCG = {:.3f}\".format(best_epoch, best_hr, best_ndcg))"
   ]
  },
  {
   "cell_type": "code",
   "execution_count": null,
   "metadata": {},
   "outputs": [],
   "source": []
  }
 ],
 "metadata": {
  "kernelspec": {
   "display_name": "Python 3",
   "language": "python",
   "name": "python3"
  },
  "language_info": {
   "codemirror_mode": {
    "name": "ipython",
    "version": 3
   },
   "file_extension": ".py",
   "mimetype": "text/x-python",
   "name": "python",
   "nbconvert_exporter": "python",
   "pygments_lexer": "ipython3",
   "version": "3.7.9"
  }
 },
 "nbformat": 4,
 "nbformat_minor": 4
}
